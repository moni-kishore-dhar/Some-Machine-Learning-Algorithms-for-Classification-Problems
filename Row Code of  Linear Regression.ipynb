{
 "cells": [
  {
   "cell_type": "code",
   "execution_count": 1,
   "metadata": {
    "collapsed": true
   },
   "outputs": [],
   "source": [
    "#Name: Moni Kishore Dhar\n",
    "#ID: 2016-2-60-099\n",
    "#Max Resolution Vs Price Regression Raw Code\n",
    "\n",
    "import csv     #for data analysis\n",
    "import array   #for array\n",
    "import math    #for solving mathmatical equation "
   ]
  },
  {
   "cell_type": "code",
   "execution_count": 2,
   "metadata": {
    "collapsed": true
   },
   "outputs": [],
   "source": [
    "#here I have decleared some array\n",
    "model =[]\n",
    "r_date =[]\n",
    "resolution =[]\n",
    "pixel =[] \n",
    "zoom =[]\n",
    "focus =[]\n",
    "weight =[]\n",
    "price =[]\n",
    "affordability =[]"
   ]
  },
  {
   "cell_type": "code",
   "execution_count": 6,
   "metadata": {},
   "outputs": [
    {
     "name": "stdout",
     "output_type": "stream",
     "text": [
      "Column names are Model, Release date, Max resolution, Effective pixels, Zoom tele (T), Macro focus range, Weight (inc. batteries), Price, Affordability\n"
     ]
    }
   ],
   "source": [
    "#here I have read the data from data set\n",
    "with open('Camera_Price_Prediction_dataset.csv') as Data:\n",
    "    Data = csv.reader(Data, delimiter=',')\n",
    "    line_count = 0\n",
    "    for row in Data:\n",
    "        if line_count == 0:\n",
    "            print(f'Column names are {\", \".join(row)}')\n",
    "            line_count += 1\n",
    "        else:\n",
    "            \n",
    "            model.append(row[0])\n",
    "            r_date.append(eval(row[1]))\n",
    "            resolution.append(eval(row[2]))\n",
    "            pixel.append(eval(row[3]))\n",
    "            zoom.append(eval(row[4]))\n",
    "            focus.append(eval(row[5]))\n",
    "            weight.append(eval(row[6]))\n",
    "            price.append(eval(row[7]))\n",
    "            affordability.append(eval(row[8]))\n",
    "\n",
    "            line_count += 1\n",
    "\n"
   ]
  },
  {
   "cell_type": "code",
   "execution_count": 7,
   "metadata": {},
   "outputs": [
    {
     "data": {
      "text/plain": [
       "1183770"
      ]
     },
     "execution_count": 7,
     "metadata": {},
     "output_type": "execute_result"
    }
   ],
   "source": [
    "#Here I have calcuted the value of X_var\n",
    "\n",
    "sum_resolution=0\n",
    "for i in range(0,line_count,1):\n",
    "    sum_resolution=sum_resolution+resolution[i]\n",
    "sum_resolution"
   ]
  },
  {
   "cell_type": "code",
   "execution_count": 8,
   "metadata": {},
   "outputs": [
    {
     "data": {
      "text/plain": [
       "177993"
      ]
     },
     "execution_count": 8,
     "metadata": {},
     "output_type": "execute_result"
    }
   ],
   "source": [
    "#here I have calculated the value of y_var\n",
    "sum_price=0\n",
    "for i in range(0,line_count,1):\n",
    "    sum_price=sum_price+price[i]\n",
    "sum_price"
   ]
  },
  {
   "cell_type": "code",
   "execution_count": 9,
   "metadata": {},
   "outputs": [
    {
     "data": {
      "text/plain": [
       "103244894304002"
      ]
     },
     "execution_count": 9,
     "metadata": {},
     "output_type": "execute_result"
    }
   ],
   "source": [
    "#here I have calculated the sumation of (xi-x_var)(yi-y_var)\n",
    "sum_of_resolution_price=0\n",
    "for i in range(0,line_count,1):\n",
    "    temp=(resolution[i]-sum_resolution)*(price[i]-sum_price)\n",
    "    sum_of_resolution_price=sum_of_resolution_price+temp\n",
    "sum_of_resolution_price"
   ]
  },
  {
   "cell_type": "code",
   "execution_count": 10,
   "metadata": {},
   "outputs": [
    {
     "data": {
      "text/plain": [
       "686645760416018"
      ]
     },
     "execution_count": 10,
     "metadata": {},
     "output_type": "execute_result"
    }
   ],
   "source": [
    "#here I have calculated the sumation of (xi-x_var)2\n",
    "sum_of_resolution_square=0\n",
    "for i in range(0,line_count,1):\n",
    "    temp=(resolution[i]-sum_resolution)*(resolution[i]-sum_resolution)\n",
    "    sum_of_resolution_square=sum_of_resolution_square+temp\n",
    "sum_of_resolution_square"
   ]
  },
  {
   "cell_type": "code",
   "execution_count": 11,
   "metadata": {},
   "outputs": [
    {
     "data": {
      "text/plain": [
       "0.1503612200874131"
      ]
     },
     "execution_count": 11,
     "metadata": {},
     "output_type": "execute_result"
    }
   ],
   "source": [
    "#here I have calculated the value of b1\n",
    "b1=sum_of_resolution_price/sum_of_resolution_square\n",
    "b1"
   ]
  },
  {
   "cell_type": "code",
   "execution_count": 12,
   "metadata": {},
   "outputs": [
    {
     "data": {
      "text/plain": [
       "-0.10150287699070759"
      ]
     },
     "execution_count": 12,
     "metadata": {},
     "output_type": "execute_result"
    }
   ],
   "source": [
    "#here I have calculated the value of b0\n",
    "b0=sum_price-(b1*sum_resolution)\n",
    "b0"
   ]
  },
  {
   "cell_type": "code",
   "execution_count": 14,
   "metadata": {},
   "outputs": [
    {
     "name": "stdout",
     "output_type": "stream",
     "text": [
      "4\n"
     ]
    },
    {
     "data": {
      "text/plain": [
       "0.4999420033589448"
      ]
     },
     "execution_count": 14,
     "metadata": {},
     "output_type": "execute_result"
    }
   ],
   "source": [
    "#here we can find the output of y\n",
    "x=int(input())\n",
    "y=b0+(b1*x)\n",
    "y"
   ]
  },
  {
   "cell_type": "code",
   "execution_count": null,
   "metadata": {
    "collapsed": true
   },
   "outputs": [],
   "source": []
  },
  {
   "cell_type": "code",
   "execution_count": null,
   "metadata": {
    "collapsed": true
   },
   "outputs": [],
   "source": []
  },
  {
   "cell_type": "code",
   "execution_count": null,
   "metadata": {
    "collapsed": true
   },
   "outputs": [],
   "source": []
  },
  {
   "cell_type": "code",
   "execution_count": null,
   "metadata": {
    "collapsed": true
   },
   "outputs": [],
   "source": []
  },
  {
   "cell_type": "code",
   "execution_count": null,
   "metadata": {
    "collapsed": true
   },
   "outputs": [],
   "source": []
  },
  {
   "cell_type": "code",
   "execution_count": null,
   "metadata": {
    "collapsed": true
   },
   "outputs": [],
   "source": []
  },
  {
   "cell_type": "code",
   "execution_count": null,
   "metadata": {
    "collapsed": true
   },
   "outputs": [],
   "source": []
  }
 ],
 "metadata": {
  "kernelspec": {
   "display_name": "Python 3",
   "language": "python",
   "name": "python3"
  },
  "language_info": {
   "codemirror_mode": {
    "name": "ipython",
    "version": 3
   },
   "file_extension": ".py",
   "mimetype": "text/x-python",
   "name": "python",
   "nbconvert_exporter": "python",
   "pygments_lexer": "ipython3",
   "version": "3.6.3"
  }
 },
 "nbformat": 4,
 "nbformat_minor": 2
}
